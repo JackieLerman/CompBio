{
 "cells": [
  {
   "cell_type": "markdown",
   "metadata": {},
   "source": [
    "# Numpy and Matplotlib\n",
    "\n",
    "First of all, we need to import them. Add it usually at the begining of your notebook"
   ]
  },
  {
   "cell_type": "code",
   "execution_count": 4,
   "metadata": {},
   "outputs": [],
   "source": [
    "import numpy as np\n",
    "import matplotlib.pyplot as plt"
   ]
  },
  {
   "cell_type": "code",
   "execution_count": 3,
   "metadata": {},
   "outputs": [
    {
     "data": {
      "text/plain": [
       "2.0"
      ]
     },
     "execution_count": 3,
     "metadata": {},
     "output_type": "execute_result"
    }
   ],
   "source": [
    "np.sqrt(9)"
   ]
  },
  {
   "cell_type": "markdown",
   "metadata": {},
   "source": [
    "Before we start, just as a destination of sorts, the difference between Numpy and lists "
   ]
  },
  {
   "cell_type": "code",
   "execution_count": 8,
   "metadata": {},
   "outputs": [
    {
     "name": "stdout",
     "output_type": "stream",
     "text": [
      "[1, 2, 3]\n",
      "[1, 2, 3, 1, 2, 3]\n",
      "[1, 2, 3, 1, 2, 3, 1, 2, 3]\n"
     ]
    }
   ],
   "source": [
    "# Let's create and add to a list \n",
    "a = [1,2,3]\n",
    "print(a)\n",
    "\n",
    "#Can you add a number to a list \n",
    "\n",
    "#print(a+1) #NO you can't, returns an error\n",
    "#Can you add two lists together \n",
    "\n",
    "print(a+a) #Yes you can and it concatinates the list \n",
    "\n",
    "#A consequence of that is that you can kind fo multiply lists, but it actually just repeats them \n",
    "print(a*3)\n",
    "\n"
   ]
  },
  {
   "cell_type": "code",
   "execution_count": 16,
   "metadata": {},
   "outputs": [
    {
     "name": "stdout",
     "output_type": "stream",
     "text": [
      "[1 2 3]\n",
      "2\n",
      "[2 3 4]\n",
      "[ 5 10 15]\n",
      "[2 4 6]\n"
     ]
    },
    {
     "ename": "ValueError",
     "evalue": "operands could not be broadcast together with shapes (3,) (2,) ",
     "output_type": "error",
     "traceback": [
      "\u001b[0;31m---------------------------------------------------------------------------\u001b[0m",
      "\u001b[0;31mValueError\u001b[0m                                Traceback (most recent call last)",
      "\u001b[0;32m<ipython-input-16-2b9155fa27c5>\u001b[0m in \u001b[0;36m<module>\u001b[0;34m\u001b[0m\n\u001b[1;32m      9\u001b[0m \u001b[0mprint\u001b[0m\u001b[0;34m(\u001b[0m\u001b[0mb\u001b[0m\u001b[0;34m+\u001b[0m\u001b[0mb\u001b[0m\u001b[0;34m)\u001b[0m\u001b[0;34m\u001b[0m\u001b[0;34m\u001b[0m\u001b[0m\n\u001b[1;32m     10\u001b[0m \u001b[0;31m#What if the vectors are of different size?\u001b[0m\u001b[0;34m\u001b[0m\u001b[0;34m\u001b[0m\u001b[0;34m\u001b[0m\u001b[0m\n\u001b[0;32m---> 11\u001b[0;31m \u001b[0mprint\u001b[0m\u001b[0;34m(\u001b[0m\u001b[0mb\u001b[0m \u001b[0;34m+\u001b[0m \u001b[0mnp\u001b[0m\u001b[0;34m.\u001b[0m\u001b[0marray\u001b[0m\u001b[0;34m(\u001b[0m\u001b[0;34m[\u001b[0m\u001b[0;36m1\u001b[0m\u001b[0;34m,\u001b[0m\u001b[0;36m2\u001b[0m\u001b[0;34m]\u001b[0m\u001b[0;34m)\u001b[0m\u001b[0;34m)\u001b[0m \u001b[0;31m# This doesn't work\u001b[0m\u001b[0;34m\u001b[0m\u001b[0;34m\u001b[0m\u001b[0m\n\u001b[0m",
      "\u001b[0;31mValueError\u001b[0m: operands could not be broadcast together with shapes (3,) (2,) "
     ]
    }
   ],
   "source": [
    "#For math, we'll be using numpy arrays \n",
    "\n",
    "b = np.array([1,2,3])\n",
    "\n",
    "print(b)\n",
    "print(b[1])\n",
    "print(b+1)\n",
    "print(b*5)\n",
    "print(b+b)\n",
    "#What if the vectors are of different size? \n",
    "print(b + np.array([1,2])) # This doesn't work "
   ]
  },
  {
   "cell_type": "code",
   "execution_count": 19,
   "metadata": {},
   "outputs": [
    {
     "name": "stdout",
     "output_type": "stream",
     "text": [
      "[1 4 9]\n",
      "[1.         1.41421356 1.73205081]\n"
     ]
    }
   ],
   "source": [
    "#Most well written functions can be called on a vector like that and they just apply themselves to every element \n",
    "\n",
    "print(b**2)\n",
    "print(np.sqrt(b))"
   ]
  },
  {
   "cell_type": "code",
   "execution_count": 41,
   "metadata": {},
   "outputs": [
    {
     "data": {
      "image/png": "[encoded data removed]",
      "text/plain": [
       "<Figure size 432x288 with 1 Axes>"
      ]
     },
     "metadata": {
      "needs_background": "light"
     },
     "output_type": "display_data"
    }
   ],
   "source": [
    "x = np.arange(start = 0, stop =10, step = .2,) # this creates 10 numbers from 0-9, also we use main arguments for fun \n",
    "#print(x)\n",
    "\n",
    "plt.plot(x,np.sin(x)+x/5); #semi-colon supresses the extra output, just to make it look neater \n",
    "\n",
    "plt.xlabel(\"something something\");\n",
    "plt.ylabel(\"something else\");\n",
    "\n",
    "plt.plot(x, np.sqrt(x), \"r\"); #letter at end changes color, k for black, r for red, b for blue etc... \"r.\" \n",
    "                                #gives just points \"r.-\" gives markers "
   ]
  },
  {
   "cell_type": "markdown",
   "metadata": {},
   "source": [
    "# Birthday Probability"
   ]
  },
  {
   "cell_type": "code",
   "execution_count": 11,
   "metadata": {},
   "outputs": [
    {
     "name": "stdout",
     "output_type": "stream",
     "text": [
      "[1.00000000e+00 1.00000000e+00 9.97260274e-01 9.91795834e-01\n",
      " 9.83644088e-01 9.72864426e-01 9.59537516e-01 9.43764297e-01\n",
      " 9.25664708e-01 9.05376166e-01 8.83051822e-01 8.58858622e-01\n",
      " 8.32975211e-01 8.05589725e-01 7.76897488e-01 7.47098680e-01\n",
      " 7.16395995e-01 6.84992335e-01 6.53088582e-01 6.20881474e-01\n",
      " 5.88561616e-01 5.56311665e-01 5.24304692e-01 4.92702766e-01\n",
      " 4.61655742e-01 4.31300296e-01 4.01759180e-01 3.73140718e-01\n",
      " 3.45538528e-01 3.19031463e-01 2.93683757e-01 2.69545366e-01\n",
      " 2.46652472e-01 2.25028146e-01 2.04683135e-01 1.85616761e-01\n",
      " 1.67817894e-01 1.51265992e-01 1.35932179e-01 1.21780336e-01\n",
      " 1.08768190e-01 9.68483885e-02 8.59695284e-02 7.60771443e-02\n",
      " 6.71146314e-02 5.90241005e-02 5.17471566e-02 4.52255972e-02\n",
      " 3.94020271e-02 3.42203907e-02 2.96264204e-02 2.55680067e-02\n",
      " 2.19954907e-02 1.88618865e-02 1.61230372e-02 1.37377112e-02\n",
      " 1.16676451e-02 9.87754066e-03 8.33502061e-03 7.01055158e-03\n",
      " 5.87733913e-03 4.91120119e-03 4.09042510e-03 3.39561317e-03\n",
      " 2.80952103e-03 2.31689269e-03 1.90429536e-03 1.55995702e-03\n",
      " 1.27360875e-03 1.03633369e-03 8.40424035e-04 6.79246823e-04\n",
      " 5.47119359e-04 4.39194444e-04 3.51355555e-04 2.80121826e-04\n",
      " 2.22562547e-04 1.76220756e-04 1.39045419e-04 1.09331603e-04\n",
      " 8.56680507e-05 6.68914916e-05 5.20470784e-05 4.03543101e-05\n",
      " 3.11778506e-05 2.40026740e-05 1.84130102e-05 1.40746023e-05\n",
      " 1.07198341e-05 8.13532614e-06 6.15164388e-06 4.63480018e-06\n",
      " 3.47927466e-06 2.60230680e-06 1.93925328e-06 1.43982915e-06\n",
      " 1.06507910e-06 7.84948705e-07 5.76345899e-07 4.21600972e-07]\n"
     ]
    },
    {
     "data": {
      "image/png": "[encoded data removed]",
      "text/plain": [
       "<Figure size 432x288 with 1 Axes>"
      ]
     },
     "metadata": {
      "needs_background": "light"
     },
     "output_type": "display_data"
    }
   ],
   "source": [
    "p = np.zeros(100)\n",
    "n = 100\n",
    "y = 0\n",
    "p[0]= 1\n",
    "p[1]= 1 #Probablilty for 1 person to not have a matching birthday \n",
    "for i in range (2,n): #This loop will run from 2 to n-1\n",
    "      #Calculate probablility that new person does not have a matching birthday\n",
    "      # Using this new value we just calculated, and a value p[i-1], calculate p[i]\n",
    "      #plot p, which is a vector of n numbers\n",
    "        y = (1 - (i-1)/365)\n",
    "        \n",
    "        p[i] = y * p[i-1]\n",
    "        \n",
    "             \n",
    "\n",
    "x = np.arange(start = 0, stop =100, step = 1,)    \n",
    "plt.plot(x,p); \n",
    "\n",
    "print(p)\n",
    "    \n",
    "            \n",
    "    "
   ]
  },
  {
   "cell_type": "code",
   "execution_count": null,
   "metadata": {},
   "outputs": [],
   "source": [
    "p = np."
   ]
  }
 ],
 "metadata": {
  "kernelspec": {
   "display_name": "Python 3",
   "language": "python",
   "name": "python3"
  },
  "language_info": {
   "codemirror_mode": {
    "name": "ipython",
    "version": 3
   },
   "file_extension": ".py",
   "mimetype": "text/x-python",
   "name": "python",
   "nbconvert_exporter": "python",
   "pygments_lexer": "ipython3",
   "version": "3.7.4"
  }
 },
 "nbformat": 4,
 "nbformat_minor": 2
}
