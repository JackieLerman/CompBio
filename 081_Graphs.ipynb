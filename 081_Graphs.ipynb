{
 "cells": [
  {
   "cell_type": "code",
   "execution_count": 2,
   "metadata": {},
   "outputs": [],
   "source": [
    "import numpy as np\n",
    "import matplotlib.pyplot as plt\n",
    "import networkx as nx"
   ]
  },
  {
   "cell_type": "code",
   "execution_count": 3,
   "metadata": {},
   "outputs": [
    {
     "name": "stdout",
     "output_type": "stream",
     "text": [
      "A graph of 7 nodes:\n",
      "0:[1, 2]\n",
      "1:[0]\n",
      "2:[0]\n",
      "3:[4]\n",
      "4:[3, 5]\n",
      "5:[4]\n",
      "7:[]\n",
      "\n",
      "Nodes: [0, 1, 2, 3, 4, 5, 7]\n",
      "Edges: [(0, 1), (0, 2), (3, 4), (4, 5)]\n"
     ]
    },
    {
     "name": "stderr",
     "output_type": "stream",
     "text": [
      "/opt/anaconda3/lib/python3.7/site-packages/networkx/drawing/nx_pylab.py:579: MatplotlibDeprecationWarning: \n",
      "The iterable function was deprecated in Matplotlib 3.1 and will be removed in 3.3. Use np.iterable instead.\n",
      "  if not cb.iterable(width):\n"
     ]
    },
    {
     "data": {
      "image/png": "[encoded data removed]",
      "text/plain": [
       "<Figure size 432x288 with 1 Axes>"
      ]
     },
     "metadata": {},
     "output_type": "display_data"
    }
   ],
   "source": [
    "class Graph():\n",
    "    def __init__(self):\n",
    "        self.gdict = {}\n",
    "        \n",
    "    def add_node(self, node):\n",
    "        \"\"\"If node is not in a dictionary, add it.\"\"\"\n",
    "        if node not in self.gdict:\n",
    "            self.gdict[node] = []\n",
    "    \n",
    "    def add_edge(self, node1, node2):        \n",
    "        self.add_node(node1)\n",
    "        self.add_node(node2)\n",
    "        # Add node2 as a connection for node1, and the other way around\n",
    "        if node2 not in self.gdict[node1]:\n",
    "            self.gdict[node1].append(node2)\n",
    "        if node1 not in self.gdict[node2]:\n",
    "            self.gdict[node2].append(node1)\n",
    "            \n",
    "    def nodes(self):\n",
    "        \"\"\"Returns a list of nodes.\"\"\"\n",
    "        return list(self.gdict.keys())\n",
    "    \n",
    "    def edges(self):\n",
    "        \"\"\"Returns a list of edges.\"\"\"\n",
    "        out = []\n",
    "        for node,links in self.gdict.items():\n",
    "            for link in links:\n",
    "                if node<link:\n",
    "                    out.append((node,link))\n",
    "        return out\n",
    "            \n",
    "    def __str__(self):\n",
    "        out = 'A graph of ' + str(len(self.gdict)) + ' nodes:\\n'\n",
    "        for node in self.gdict:\n",
    "            out += str(node) + ':' + str(self.gdict[node]) + '\\n'\n",
    "        return out\n",
    "    \n",
    "    def plot(self):\n",
    "        g_nx = nx.Graph()\n",
    "        g_nx.add_nodes_from(self.nodes())\n",
    "        g_nx.add_edges_from(self.edges())\n",
    "        nx.draw_kamada_kawai(g_nx, node_size=100)\n",
    "    \n",
    "# Test\n",
    "g = Graph()\n",
    "g.add_edge(0,1)\n",
    "g.add_edge(0,2)\n",
    "g.add_edge(3,4)\n",
    "g.add_edge(4,5)\n",
    "g.add_node(7)\n",
    "print(g)\n",
    "print('Nodes:',g.nodes())\n",
    "print('Edges:',g.edges())\n",
    "g.plot()"
   ]
  },
  {
   "cell_type": "code",
   "execution_count": null,
   "metadata": {},
   "outputs": [],
   "source": [
    "N_NODES = 50\n",
    "N_EDGES = N_NODES\n",
    "\n",
    "g = Graph()\n",
    "for i in range(N_NODES):\n",
    "    g.add_node(i)\n",
    "edges = []\n",
    "while len(edges)<N_EDGES:\n",
    "    n1 = np.random.randint(low=0, high=N_NODES)\n",
    "    n2 = np.random.randint(low=0, high=N_NODES)\n",
    "    if n2<n1:\n",
    "        n1,n2 = n2,n1\n",
    "    \n",
    "    if (n1,n2) not in edges and n1!=n2:\n",
    "        g.add_edge(n1,n2)\n",
    "        edges.append((n1,n2))\n",
    "    \n",
    "#print(g)\n",
    "\n",
    "g.plot()\n"
   ]
  },
  {
   "cell_type": "code",
   "execution_count": null,
   "metadata": {},
   "outputs": [],
   "source": [
    "N_NODES = 10\n",
    "N_EDGES = N_NODES\n",
    "\n",
    "g = Graph()\n",
    "for i in range(N_NODES):\n",
    "    g.add_node(i)\n",
    "    edges = []\n",
    "    \n",
    "    while len(edges)<N_EDGES:\n",
    "        n1 = i\n",
    "        n2 = i+1\n",
    "        \n",
    "        \n",
    "        added = []\n",
    "        \n",
    "        if n1 not in added:\n",
    "            added.append(n1)\n",
    "            \n",
    "        n3 = np.random.randint(low=0, high=len(added))\n",
    "        \n",
    "\n",
    "\n",
    "        if (n1,n3) not in edges and n1!=n2:\n",
    "            \n",
    "            g.add_edge(n1,n3)\n",
    "            edges.append((n1,n3))   \n",
    "#print(g)\n",
    "\n",
    "g.plot()\n",
    "\n"
   ]
  },
  {
   "cell_type": "code",
   "execution_count": 4,
   "metadata": {},
   "outputs": [
    {
     "name": "stdout",
     "output_type": "stream",
     "text": [
      "[2, 1, 1, 1, 2, 1, 0]\n",
      "[1. 4. 2.]\n"
     ]
    },
    {
     "data": {
      "text/plain": [
       "Text(0, 0.5, 'Frequency')"
      ]
     },
     "execution_count": 4,
     "metadata": {},
     "output_type": "execute_result"
    },
    {
     "data": {
      "image/png": "[encoded data removed]",
      "text/plain": [
       "<Figure size 432x288 with 1 Axes>"
      ]
     },
     "metadata": {
      "needs_background": "light"
     },
     "output_type": "display_data"
    }
   ],
   "source": [
    "degrees = []\n",
    "for node,links in g.gdict.items():\n",
    "    degrees.append(len(links))\n",
    "\n",
    "print(degrees)\n",
    "hist = np.zeros(max(degrees)+1)\n",
    "for degree in degrees:\n",
    "    hist[degree] += 1\n",
    "print(hist)\n",
    "\n",
    "plt.plot(hist,'.-');\n",
    "plt.xlabel('Degrees')\n",
    "plt.ylabel('Frequency')"
   ]
  }
 ],
 "metadata": {
  "kernelspec": {
   "display_name": "Python 3",
   "language": "python",
   "name": "python3"
  }
 },
 "nbformat": 4,
 "nbformat_minor": 2
}
