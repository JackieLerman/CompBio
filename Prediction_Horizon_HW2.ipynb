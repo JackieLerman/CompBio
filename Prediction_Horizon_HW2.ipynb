{
 "cells": [
  {
   "cell_type": "code",
   "execution_count": 1,
   "metadata": {},
   "outputs": [],
   "source": [
    "import numpy as np\n",
    "import matplotlib.pyplot as plt"
   ]
  },
  {
   "cell_type": "markdown",
   "metadata": {},
   "source": [
    "# Prediction Horizon When \"r\" Changes \n",
    "\n",
    "* First I made a outer loop to run through different values of r (I did 1-10 with 0.2 increments) \n",
    "* Then I made a boolean to act as whenever the prediction horizon had passed a certain value \n",
    "* I created an if statement to print out when the prediction horizon passed a certain value \n",
    "* I printed out the information \n",
    "* Not sure why it isn't working \n"
   ]
  },
  {
   "cell_type": "code",
   "execution_count": 104,
   "metadata": {},
   "outputs": [
    {
     "name": "stdout",
     "output_type": "stream",
     "text": [
      "Time with r of  5.200000000000002  : 0\n",
      "Time with r of  5.400000000000002  : 0\n",
      "Time with r of  5.600000000000002  : 0\n",
      "Time with r of  5.8000000000000025  : 0\n",
      "Time with r of  6.000000000000003  : 0\n",
      "Time with r of  6.200000000000003  : 0\n",
      "Time with r of  6.400000000000003  : 0\n",
      "Time with r of  6.600000000000003  : 0\n",
      "Time with r of  6.800000000000003  : 0\n",
      "Time with r of  7.0000000000000036  : 0\n",
      "Time with r of  7.200000000000004  : 0\n",
      "Time with r of  7.400000000000004  : 0\n",
      "Time with r of  7.600000000000004  : 0\n",
      "Time with r of  7.800000000000004  : 0\n",
      "Time with r of  8.000000000000004  : 0\n",
      "Time with r of  8.200000000000003  : 0\n",
      "Time with r of  8.400000000000002  : 0\n",
      "Time with r of  8.600000000000001  : 0\n",
      "Time with r of  8.8  : 0\n",
      "Time with r of  9.0  : 0\n"
     ]
    }
   ],
   "source": [
    "###### nsteps = 100  #Number of steps in our lil simulation \n",
    "ntraces = 20\n",
    "nrtest = 40 \n",
    "x[0] = 0.6              #The Original population size  \n",
    "steps = [0.6,0.61]\n",
    "r = 1            #Rate of population change (babies - death)\n",
    "x = np.zeros(shape= (nsteps,ntraces))\n",
    "\n",
    "wiggle = 0.00001               #The standard deviation of the original noise in x0\n",
    "\n",
    "found = False  #Added Boolean \n",
    "\n",
    "\n",
    "#fig = plt.figure(figsize = (15,5));\n",
    "for a in range (nrtest):\n",
    "    \n",
    "    r = r + 0.2\n",
    "    found = False  # reset boolean \n",
    "\n",
    "    for itrace in range(ntraces):\n",
    "        x[0,itrace] = 0.6 + np.random.randn(1)*wiggle\n",
    "        \n",
    "        for istep in range (1,nsteps):\n",
    "            x[istep,itrace] = r*x[istep-1,itrace] *(1-x[istep-1,itrace])\n",
    "            #print (itrace)\n",
    "            x[istep,itrace] = np.std(x)\n",
    "            #print (x[istep,itrace])\n",
    "            \n",
    "            if not found:\n",
    "                if x[istep,itrace] > .06:\n",
    "                    print(\"Time with r of \", r, \" :\" , itrace)\n",
    "                    found = True \n",
    "            \n",
    "            \n",
    "                \n",
    "                \n",
    "\n",
    "# plt.plot(x)  \n",
    "# plt.ylim(0,1); #Force y-axis to be between 0 and 1\n",
    "# plt.xlabel(\"Time\");\n",
    "# plt.ylabel(\"All Trajectories\");\n",
    "\n",
    "\n",
    "\n",
    "\n",
    "# plt.plot(np.std(x, axis = 1))   \n",
    "# plt.ylim(0,1); #Force y-axis to be between 0 and 1\n",
    "# plt.xlabel(\"Time\");\n",
    "# plt.ylabel(\"Variabilities (SD) of trajectories\");\n",
    "\n"
   ]
  },
  {
   "cell_type": "code",
   "execution_count": null,
   "metadata": {},
   "outputs": [],
   "source": []
  }
 ],
 "metadata": {
  "kernelspec": {
   "display_name": "Python 3",
   "language": "python",
   "name": "python3"
  },
  "language_info": {
   "codemirror_mode": {
    "name": "ipython",
    "version": 3
   },
   "file_extension": ".py",
   "mimetype": "text/x-python",
   "name": "python",
   "nbconvert_exporter": "python",
   "pygments_lexer": "ipython3",
   "version": "3.7.4"
  }
 },
 "nbformat": 4,
 "nbformat_minor": 2
}
