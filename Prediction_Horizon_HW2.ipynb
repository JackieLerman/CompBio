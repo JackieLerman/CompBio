{
 "cells": [
  {
   "cell_type": "code",
   "execution_count": 1,
   "metadata": {},
   "outputs": [],
   "source": [
    "import numpy as np\n",
    "import matplotlib.pyplot as plt"
   ]
  },
  {
   "cell_type": "markdown",
   "metadata": {},
   "source": [
    "# Prediction Horizon When \"r\" Changes \n",
    "\n",
    "* First I made a outer loop to run through different values of r (I did 1-10 with 0.2 increments) \n",
    "* Then I made a boolean to act as whenever the prediction horizon had passed a certain value \n",
    "* I created an if statement to print out when the prediction horizon passed a certain value \n",
    "* I printed out the information \n",
    "* Not sure why it isn't working \n"
   ]
  },
  {
   "cell_type": "code",
   "execution_count": 70,
   "metadata": {},
   "outputs": [
    {
     "name": "stdout",
     "output_type": "stream",
     "text": [
      "Time with r of  1.1  : 0\n",
      "Time with r of  1.2000000000000002  : 0\n",
      "Time with r of  1.3000000000000003  : 0\n",
      "Time with r of  1.4000000000000004  : 0\n",
      "Time with r of  1.5000000000000004  : 0\n",
      "Time with r of  1.6000000000000005  : 0\n",
      "Time with r of  1.7000000000000006  : 0\n",
      "Time with r of  1.8000000000000007  : 0\n",
      "Time with r of  1.9000000000000008  : 0\n",
      "Time with r of  2.000000000000001  : 0\n",
      "Time with r of  2.100000000000001  : 0\n",
      "Time with r of  2.200000000000001  : 0\n",
      "Time with r of  2.300000000000001  : 0\n",
      "Time with r of  2.4000000000000012  : 0\n",
      "Time with r of  2.5000000000000013  : 0\n",
      "Time with r of  2.6000000000000014  : 0\n",
      "Time with r of  2.7000000000000015  : 0\n",
      "Time with r of  2.8000000000000016  : 0\n",
      "Time with r of  2.9000000000000017  : 0\n",
      "Time with r of  3.0000000000000018  : 0\n"
     ]
    }
   ],
   "source": [
    "\n",
    "nsteps = 100  #Number of steps in our lil simulation \n",
    "ntraces = 20\n",
    "nrtest = 20 \n",
    "x[0] = 0.6              #The Original population size  \n",
    "steps = [0.6,0.61]\n",
    "r = 1            #Rate of population change (babies - death)\n",
    "x = np.zeros(shape= (nsteps,ntraces))\n",
    "\n",
    "wiggle = 0.00001               #The standard deviation of the original noise in x0\n",
    "\n",
    "found = False  #Added Boolean \n",
    "\n",
    "\n",
    "#fig = plt.figure(figsize = (15,5));\n",
    "for a in range (nrtest):\n",
    "    \n",
    "    r = r + 0.1\n",
    "    found = False\n",
    "\n",
    "    for itrace in range(ntraces):\n",
    "        x[0,itrace] = 0.6 + np.random.randn(1)*wiggle\n",
    "        \n",
    "        for istep in range (1,nsteps):\n",
    "            x[istep,itrace] = r*x[istep-1,itrace] *(1-x[istep-1,itrace])\n",
    "            #print (itrace)\n",
    "           # x[istep,itrace] = np.std(x)\n",
    "            #print (x[istep,itrace])\n",
    "            \n",
    "            if not found:\n",
    "                if x[istep,itrace] > .2:\n",
    "                    print(\"Time with r of \", r, \" :\" , itrace)\n",
    "                    found = True \n",
    "                \n",
    "                \n",
    "\n",
    "# plt.plot(x)  \n",
    "# plt.ylim(0,1); #Force y-axis to be between 0 and 1\n",
    "# plt.xlabel(\"Time\");\n",
    "# plt.ylabel(\"All Trajectories\");\n",
    "\n",
    "\n",
    "\n",
    "\n",
    "# plt.plot(np.std(x, axis = 1))   \n",
    "# plt.ylim(0,1); #Force y-axis to be between 0 and 1\n",
    "# plt.xlabel(\"Time\");\n",
    "# plt.ylabel(\"Variabilities (SD) of trajectories\");\n",
    "\n"
   ]
  },
  {
   "cell_type": "code",
   "execution_count": null,
   "metadata": {},
   "outputs": [],
   "source": []
  }
 ],
 "metadata": {
  "kernelspec": {
   "display_name": "Python 3",
   "language": "python",
   "name": "python3"
  },
  "language_info": {
   "codemirror_mode": {
    "name": "ipython",
    "version": 3
   },
   "file_extension": ".py",
   "mimetype": "text/x-python",
   "name": "python",
   "nbconvert_exporter": "python",
   "pygments_lexer": "ipython3",
   "version": "3.7.4"
  }
 },
 "nbformat": 4,
 "nbformat_minor": 2
}
