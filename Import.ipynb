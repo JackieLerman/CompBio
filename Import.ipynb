import sys 

lines = sys.stdin.readlines()

lex ={} // word counter empty dict with count of words 

for line in lines: 
	line= line.rstrip(‘\n’) 
	
	words = line.split()

#print (line) 

for w in words: 
	#print (w)
	lex[w] = 1 +lex.get(w,0)

print("num words %d" % len(lex))