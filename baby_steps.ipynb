{
 "cells": [
  {
   "cell_type": "code",
   "execution_count": 17,
   "metadata": {},
   "outputs": [
    {
     "data": {
      "text/plain": [
       "2"
      ]
     },
     "execution_count": 17,
     "metadata": {},
     "output_type": "execute_result"
    }
   ],
   "source": [
    "#comment test \n",
    "5 % 3"
   ]
  },
  {
   "cell_type": "code",
   "execution_count": 16,
   "metadata": {},
   "outputs": [
    {
     "name": "stdout",
     "output_type": "stream",
     "text": [
      "3\n"
     ]
    }
   ],
   "source": [
    "a = 2\n",
    "a = a +1\n",
    "print(a)"
   ]
  },
  {
   "cell_type": "code",
   "execution_count": 25,
   "metadata": {},
   "outputs": [
    {
     "name": "stdout",
     "output_type": "stream",
     "text": [
      "0\n",
      "haha\n",
      "1\n",
      "haha\n",
      "2\n",
      "haha\n",
      "3\n",
      "haha\n",
      "4\n",
      "haha\n",
      "lol\n",
      "2\n",
      "4\n",
      "8\n"
     ]
    }
   ],
   "source": [
    "# loop \n",
    "for i in range(5):\n",
    "    print(i)\n",
    "    print(\"haha\")\n",
    "print(\"lol\")\n",
    "#Thats how you do a loop \n",
    "#1.) thats how you do a loop, mind the : at the end \n",
    "#2.) the inside of the loop is sorted by indentation. Everything properly indented gets looped \n",
    "#3.) once you are back to previous indentation, the loop is over \n",
    "#4.) Python is a zero-index language. So range(5) produces 5 numbers from 0 to 4\n",
    "\n",
    "for i in b:\n",
    "    print(i)"
   ]
  },
  {
   "cell_type": "code",
   "execution_count": 24,
   "metadata": {},
   "outputs": [
    {
     "name": "stdout",
     "output_type": "stream",
     "text": [
      "[2, 4, 8]\n",
      "Zero element is:  2\n"
     ]
    }
   ],
   "source": [
    "#lists \n",
    "b = [2,4,8]\n",
    "print(b)\n",
    "print(\"Zero element is: \", b[0]) #zero-th element is 2...etc... \n",
    "#single and double quotation marks do the same thing "
   ]
  },
  {
   "cell_type": "code",
   "execution_count": 30,
   "metadata": {},
   "outputs": [
    {
     "name": "stdout",
     "output_type": "stream",
     "text": [
      "3\n",
      "haha here's your number: 3 silly!\n"
     ]
    }
   ],
   "source": [
    "print(a)\n",
    "#Let's write an alternative stupid print function \n",
    "\n",
    "def my_print(i):\n",
    "    print(\"haha here's your number:\",i, \"silly!\")\n",
    "    \n",
    "my_print(3)"
   ]
  },
  {
   "cell_type": "code",
   "execution_count": 31,
   "metadata": {},
   "outputs": [
    {
     "ename": "TypeError",
     "evalue": "my_print() takes 1 positional argument but 2 were given",
     "output_type": "error",
     "traceback": [
      "\u001b[0;31m---------------------------------------------------------------------------\u001b[0m",
      "\u001b[0;31mTypeError\u001b[0m                                 Traceback (most recent call last)",
      "\u001b[0;32m<ipython-input-31-32722be73888>\u001b[0m in \u001b[0;36m<module>\u001b[0;34m\u001b[0m\n\u001b[0;32m----> 1\u001b[0;31m \u001b[0mmy_print\u001b[0m\u001b[0;34m(\u001b[0m\u001b[0;36m4\u001b[0m\u001b[0;34m,\u001b[0m\u001b[0;36m5\u001b[0m\u001b[0;34m)\u001b[0m\u001b[0;31m#Honestly it wasn't a very good function. Arseny wrote it\u001b[0m\u001b[0;34m\u001b[0m\u001b[0;34m\u001b[0m\u001b[0m\n\u001b[0m",
      "\u001b[0;31mTypeError\u001b[0m: my_print() takes 1 positional argument but 2 were given"
     ]
    }
   ],
   "source": [
    "my_print(4,5)#Honestly it wasn't a very good function. Arseny wrote it "
   ]
  }
 ],
 "metadata": {
  "kernelspec": {
   "display_name": "Python 3",
   "language": "python",
   "name": "python3"
  },
  "language_info": {
   "codemirror_mode": {
    "name": "ipython",
    "version": 3
   },
   "file_extension": ".py",
   "mimetype": "text/x-python",
   "name": "python",
   "nbconvert_exporter": "python",
   "pygments_lexer": "ipython3",
   "version": "3.7.4"
  }
 },
 "nbformat": 4,
 "nbformat_minor": 2
}
