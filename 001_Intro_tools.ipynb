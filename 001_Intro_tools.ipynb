{
 "cells": [
  {
   "cell_type": "code",
   "execution_count": null,
   "metadata": {},
   "outputs": [],
   "source": []
  },
  {
   "cell_type": "code",
   "execution_count": 8,
   "metadata": {},
   "outputs": [
    {
     "name": "stdout",
     "output_type": "stream",
     "text": [
      "Here is a number: 2\n",
      "I have a lovely dog named Spot\n",
      "I have a lovely dog named Fido\n",
      "I have a lovely dog named Roko\n"
     ]
    }
   ],
   "source": [
    "#Fuctions!!\n",
    "# Functions that don't return anything \n",
    "# Built-in function: \n",
    "print(\"Here is a number:\", 2)\n",
    "\n",
    "#Sad life of a person who wrote the same code many times \n",
    "\n",
    "print(\"I have a lovely dog named Spot\")\n",
    "print(\"I have a lovely dog named Fido\")\n",
    "print(\"I have a lovely dog named Roko\")\n"
   ]
  },
  {
   "cell_type": "code",
   "execution_count": 12,
   "metadata": {},
   "outputs": [
    {
     "name": "stdout",
     "output_type": "stream",
     "text": [
      "I have a lovely dog named  Spot\n"
     ]
    }
   ],
   "source": [
    "# A more effcient way: \n",
    "def dogLoverOld(name = \"Dog\"): #Has a default value set of \"Dog\"\n",
    "    print(\"I have a lovely dog named \",name)\n",
    "    \n",
    "dogLoverOld(\"Spot\")"
   ]
  },
  {
   "cell_type": "code",
   "execution_count": 10,
   "metadata": {},
   "outputs": [
    {
     "data": {
      "text/plain": [
       "<function __main__.dogLover(name)>"
      ]
     },
     "execution_count": 10,
     "metadata": {},
     "output_type": "execute_result"
    }
   ],
   "source": [
    "dogLover # if you call a function name without (), instead of running the function, the function itself is returned "
   ]
  },
  {
   "cell_type": "code",
   "execution_count": 13,
   "metadata": {},
   "outputs": [
    {
     "name": "stdout",
     "output_type": "stream",
     "text": [
      "I have a lovely dog named  Dog\n"
     ]
    }
   ],
   "source": [
    "dogLoverOld()"
   ]
  },
  {
   "cell_type": "code",
   "execution_count": null,
   "metadata": {},
   "outputs": [],
   "source": [
    "#^^ Error message tries to tell you where the error happened and tries to name the error \n",
    "# (When you don't have \"Dog\" as default)"
   ]
  },
  {
   "cell_type": "code",
   "execution_count": null,
   "metadata": {},
   "outputs": [],
   "source": []
  },
  {
   "cell_type": "code",
   "execution_count": 21,
   "metadata": {},
   "outputs": [
    {
     "name": "stdout",
     "output_type": "stream",
     "text": [
      "I have a lovely dog named  Spot\n",
      "Glory to all living things!\n"
     ]
    }
   ],
   "source": [
    "# A more effcient way: \n",
    "def dogLover(name = None): #default value of none, so no error and can be used as an argument \n",
    "    \"\"\"Expresses love to all creations or a specific dog.\"\"\" #Expected description of function(Documentation String)!!\n",
    "    if name is None: \n",
    "        print(\"Glory to all living things!\")\n",
    "    else:\n",
    "         print(\"I have a lovely dog named \",name)\n",
    "    \n",
    "dogLover(\"Spot\")\n",
    "dogLover()"
   ]
  },
  {
   "cell_type": "code",
   "execution_count": 23,
   "metadata": {},
   "outputs": [
    {
     "name": "stdout",
     "output_type": "stream",
     "text": [
      "I have a lovely dog named  Spot\n",
      "I have a lovely dog named  Fido\n",
      "I have a lovely dog named  Rex\n",
      "I have a lovely dog named  Teddy\n",
      "Glory to all living things!\n"
     ]
    }
   ],
   "source": [
    "#Let's glorify several dogs in one go \n",
    "\n",
    "names = [\"Spot\",\"Fido\",\"Rex\",\"Teddy\",None]\n",
    "\n",
    "for x in names: #Makes iterator varaible 'x' for For loop to list names \n",
    "    dogLover(x)"
   ]
  },
  {
   "cell_type": "code",
   "execution_count": 37,
   "metadata": {},
   "outputs": [
    {
     "name": "stdout",
     "output_type": "stream",
     "text": [
      "5\n",
      "5\n",
      "6\n",
      "9\n",
      "14\n",
      "21\n",
      "30\n",
      "41\n",
      "54\n",
      "69\n",
      "86\n",
      "105\n"
     ]
    }
   ],
   "source": [
    "#Funtions that return something (Not void)\n",
    "#Built-in \n",
    "print(len(names)) #Takes something and returns the length value associated with the input \n",
    "\n",
    "\n",
    "#Imagine that somebody has to calculate like x**2 + 5 again and again \n",
    "\n",
    "def mathEx(x):\n",
    "    return x**2 +5 \n",
    "\n",
    "# print(mathEx(3))\n",
    "# print(mathEx(0))\n",
    "\n",
    "for x in range(11):\n",
    "    print(mathEx(x))"
   ]
  },
  {
   "cell_type": "code",
   "execution_count": null,
   "metadata": {},
   "outputs": [],
   "source": []
  }
 ],
 "metadata": {
  "kernelspec": {
   "display_name": "Python 3",
   "language": "python",
   "name": "python3"
  },
  "language_info": {
   "codemirror_mode": {
    "name": "ipython",
    "version": 3
   },
   "file_extension": ".py",
   "mimetype": "text/x-python",
   "name": "python",
   "nbconvert_exporter": "python",
   "pygments_lexer": "ipython3",
   "version": "3.7.4"
  }
 },
 "nbformat": 4,
 "nbformat_minor": 2
}
